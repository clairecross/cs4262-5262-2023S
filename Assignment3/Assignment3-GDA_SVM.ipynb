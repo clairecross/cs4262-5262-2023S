{
 "cells": [
  {
   "cell_type": "markdown",
   "metadata": {},
   "source": [
    "<h1>\n",
    "<center>\n",
    "Assignment 3: Classification: GDA and SVM\n",
    "</center>\n",
    "</h1>\n",
    "<center>\n",
    "CS 4262/5262 - Foundations of Machine Learning<br>\n",
    "Vanderbilt University, Spring 2023<br>\n",
    "Due: Check Brightspace\n",
    "</center>\n",
    "<hr>\n",
    "<br>This assignment will focus on Gaussian Discriminant Analysis and Support Vector Machines. In addition to programming tasks, there are short-answer questions throughout the notebook. \n",
    "\n",
    "Contact: Quan Liu quan.liu@vanderbilt.edu for any clarifying questions."
   ]
  },
  {
   "cell_type": "markdown",
   "metadata": {},
   "source": [
    "### Please enter your name:  Claire Cross\n",
    "\n",
    "\n"
   ]
  },
  {
   "cell_type": "code",
   "execution_count": 1,
   "metadata": {},
   "outputs": [],
   "source": [
    "import csv\n",
    "import matplotlib.pyplot as plt\n",
    "from matplotlib.colors import ListedColormap\n",
    "import numpy as np\n",
    "import scipy as sp\n",
    "from sklearn import datasets\n",
    "from sklearn.svm import SVC \n",
    "# add package here if needed \n",
    "import pandas as pd\n",
    "import seaborn as sns"
   ]
  },
  {
   "cell_type": "markdown",
   "metadata": {},
   "source": [
    "---\n",
    "## Part 1: Gaussian Discriminant Analysis\n",
    "\n",
    "The following questions relate to Gaussian Discriminant Analysis (GDA). "
   ]
  },
  {
   "cell_type": "markdown",
   "metadata": {},
   "source": [
    "**Task 1**\n",
    "- Write a function (or a set of functions) that takes in a set of training data and returns the maximum likelihood estimates of the parameters $\\mu_0$, $\\mu_1$, $\\Sigma$, and $\\phi_y$. Assume that the class covariance matrices are equal, which results in a linear decision boundary. You can use the formulas provided in the lecture notes for the maximum likelihood estimates of each parameter (i.e., no need to derive those from scratch). \n",
    "\n",
    "- Load the Wine dataset (the same files as Assignment2 are included in this distribution). Choose columns of citric acid and total sulfur dioxide as input X. \n",
    "- Splitting into training/test sets in 80/20 ratio. Fit the GDA parameters on the training set.\n",
    "- Try to plot out the 2 fit 2d Gaussian distributions with 2d scatter plot of red wine and white wine.\n",
    "- Calculate and report the model performance on test set (your accuracy should be above 80%)."
   ]
  },
  {
   "cell_type": "code",
   "execution_count": 2,
   "metadata": {},
   "outputs": [],
   "source": [
    "# TODO - write functions to calculate the GDA parameters, and estimate these parameters on the wine dataset.\n",
    "'''\n",
    "Estimate parameters for Maximum Likelihood Estimation\n",
    "@param x (np.ndarray) - 2D input features\n",
    "       y (np.ndarray) - paired targets\n",
    "@return m0 (float) - mean of class 0\n",
    "        m1 (float) - mean of class 1\n",
    "        cov (np.ndarray) - covariance matrix\n",
    "        phi (float) - percentage of data points in class 1\n",
    "'''\n",
    "def param_est(x, y):\n",
    "    #combine features and targets into the same dataframe\n",
    "    combined_mat = np.column_stack([x, y])\n",
    "    \n",
    "    #split data into two classes        \n",
    "    c0_x = combined_mat[combined_mat[:,2]==0, :2] #x values corresponding to class 0\n",
    "    c1_x = combined_mat[combined_mat[:,2]==1, :2] #x values corresponding to class 1\n",
    "    \n",
    "    #calculate parameters\n",
    "    m0 = np.mean(c0_x, axis=0)\n",
    "    m1 = np.mean(c1_x, axis=0)\n",
    "    cov = np.cov(x.T)\n",
    "    phi = len(c1_x)/len(x)\n",
    "    \n",
    "    return m0, m1, cov, phi\n",
    "\n",
    "'''\n",
    "Use Gaussian Discriminant Analysis to predict target features\n",
    "@param x (np.ndarray) - 2D input features\n",
    "       y (np.ndarray) - targets\n",
    "       m0 (np.ndarray) - mean of class 0\n",
    "       m1 (np.ndarray) - mean of class 1\n",
    "       cov (np.ndarray) - covariance matrix\n",
    "       phi (float) - percentage of data points in class 1\n",
    "@return preds (np.ndarray) - predicted classes for the data points\n",
    "'''\n",
    "def GDA(x, y, m0, m1, cov, phi):\n",
    "    #calculate class probabilities and make prediction\n",
    "    preds = []\n",
    "    c1_list = []\n",
    "    c0_list = []\n",
    "    for i in range(len(x)): #loop through each data point\n",
    "        prob_c0 = 1/(2*np.pi*np.sqrt(np.linalg.det(cov)))*np.exp(-1/2*(x[i,:]-m0).T.dot(np.linalg.inv(cov)).dot(x[i,:]-m0))*(1-phi)\n",
    "        prob_c1 = 1/(2*np.pi*np.sqrt(np.linalg.det(cov)))*np.exp(-1/2*(x[i,:]-m1).T.dot(np.linalg.inv(cov)).dot(x[i,:]-m1))*phi\n",
    "        \n",
    "        c0_list.append(prob_c0)\n",
    "        c1_list.append(prob_c1)\n",
    "        \n",
    "        if prob_c0 >= prob_c1:\n",
    "            preds.append(0)\n",
    "        else:\n",
    "            preds.append(1)\n",
    "            \n",
    "    return np.array(preds), c0_list, c1_list\n",
    "\n",
    "'''\n",
    "Calculate GDA performance accuracy\n",
    "@param y (np.ndarray) - actual classes for the data points\n",
    "       pred_y (np.ndarray) - predicted classes for the data points\n",
    "@return prediction accuracy (float)\n",
    "'''\n",
    "def evaluate(y, pred_y):\n",
    "    accuracy = 0\n",
    "    for i in range(len(pred_y)):\n",
    "        if pred_y[i] == y[i]: #increase accuracy score if the predicted value of y is equal to the actual value of y\n",
    "            accuracy += 1\n",
    "        else: \n",
    "            pass\n",
    "    return accuracy*100/len(pred_y) #put on a 0-100% scale"
   ]
  },
  {
   "cell_type": "code",
   "execution_count": 3,
   "metadata": {},
   "outputs": [
    {
     "name": "stdout",
     "output_type": "stream",
     "text": [
      "0 fixed acidity\n",
      "1 volatile acidity\n",
      "2 citric acid\n",
      "3 residual sugar\n",
      "4 chlorides\n",
      "5 free sulfur dioxide\n",
      "6 total sulfur dioxide\n",
      "7 density\n",
      "8 pH\n",
      "9 sulphates\n",
      "10 alcohol\n",
      "11 label\n"
     ]
    }
   ],
   "source": [
    "#load wine dataset\n",
    "#open wine data file\n",
    "wine_file = open('assignment3-wine_quality.csv','r') \n",
    "wine_csv_data = csv.reader(wine_file)\n",
    "wine_data = np.asarray([wine_data for wine_data in wine_csv_data]) #extract data \n",
    "wine_file.close() #close file\n",
    "\n",
    "#get feature labels and order\n",
    "for i, label in enumerate(wine_data[0]):\n",
    "    print(i, label)"
   ]
  },
  {
   "cell_type": "code",
   "execution_count": 4,
   "metadata": {},
   "outputs": [
    {
     "name": "stdout",
     "output_type": "stream",
     "text": [
      "training accuracy:  88.98007033997655 %\n"
     ]
    }
   ],
   "source": [
    "#shuffle data and extract citric acid and total sulfur dioxide features\n",
    "np.random.shuffle(wine_data[1:,]) #shuffle data\n",
    "selected_features = np.column_stack([wine_data[1:,2], wine_data[1:,6]]).astype(float) #get features\n",
    "wine_targets = wine_data[1:,11].astype(float) #get targets\n",
    "\n",
    "#split into 80/20 training/testing dataset\n",
    "split_ind = int(len(selected_features)*0.8) #get the 80th percentile index\n",
    "train_x = np.array(selected_features[:split_ind])\n",
    "train_y = np.array(wine_targets[:split_ind])\n",
    "test_x = np.array(selected_features[split_ind:])\n",
    "test_y = np.array(wine_targets[split_ind:])\n",
    "\n",
    "#fit GDA on training set\n",
    "m0, m1, cov, phi = param_est(train_x, train_y)\n",
    "pred_y_train, c0, c1 = GDA(train_x, train_y, m0, m1, cov, phi)\n",
    "print('training accuracy: ', evaluate(train_y, pred_y_train), '%')"
   ]
  },
  {
   "cell_type": "code",
   "execution_count": 5,
   "metadata": {},
   "outputs": [
    {
     "data": {
      "image/png": "[encoded data removed]",
      "text/plain": [
       "<Figure size 432x432 with 3 Axes>"
      ]
     },
     "metadata": {
      "needs_background": "light"
     },
     "output_type": "display_data"
    }
   ],
   "source": [
    "#plot distributions\n",
    "#convert wine dataset to dataframe\n",
    "wine_df = pd.DataFrame(wine_data[1:,:], columns=wine_data[0,:]).astype(float)\n",
    "wine_df = wine_df.replace({'label': {0:'white', 1:'red'}}) #replace 0/1 label with white/red\n",
    "\n",
    "#set custom color palette\n",
    "colors = [\"#FFD700\", \"#800000\"] #gold and maroon hex codes\n",
    "sns.set_palette(sns.color_palette(colors))\n",
    "\n",
    "#plot joint distribution \n",
    "plot = sns.jointplot(data=wine_df,\n",
    "                     x=\"citric acid\", \n",
    "                     y=\"total sulfur dioxide\", \n",
    "                     hue=\"label\", \n",
    "                     kind=\"kde\"\n",
    ")"
   ]
  },
  {
   "cell_type": "code",
   "execution_count": 6,
   "metadata": {},
   "outputs": [
    {
     "name": "stdout",
     "output_type": "stream",
     "text": [
      "test set accuracy:  88.4375 %\n"
     ]
    }
   ],
   "source": [
    "#calculate model performance on test set - need to beat 80%\n",
    "pred_y_test, c0, c1 = GDA(test_x, test_y, m0, m1, cov, phi)\n",
    "print('test set accuracy: ', evaluate(test_y, pred_y_test), '%')"
   ]
  },
  {
   "cell_type": "code",
   "execution_count": 7,
   "metadata": {},
   "outputs": [
    {
     "name": "stdout",
     "output_type": "stream",
     "text": [
      "parameters\n",
      "m0: [  0.36232467 144.50630418] \n",
      "m1: [ 0.26805426 46.31472868] \n",
      "cov: [[3.10640639e-02 2.76427731e+00]\n",
      " [2.76427731e+00 3.94971642e+03]] \n",
      "phi: 0.5041031652989449\n"
     ]
    }
   ],
   "source": [
    "print('parameters\\nm0:', m0, '\\nm1:', m1, '\\ncov:', cov, '\\nphi:', phi)"
   ]
  },
  {
   "cell_type": "markdown",
   "metadata": {},
   "source": [
    "**Question 1:** Report the values of these parameters.\n",
    "The mean of class 0 (white wine) is centered at (citric acid=0.36,total sulfur dioxide=144.51). The mean of class 1 (red wine) is centered at (citric acid=0.27,total sulfur dioxide=46.31). Phi is equal to 0.50. The covariance matrix is equal to [[var(citric acid)=0.03, cov(citric acid, total sulfur dioxide)=2.76],[cov(citric acid, total sulfur dioxide)=2.76]2.76, var(total sulfur dioxide)=3950]]\n",
    "\n",
    "\n",
    "**Question 2:** In which scenario(s) is GDA expected to outperform logistic regression, and vice versa? \n",
    "GDA is expected to outperform logistic regression on datasets if the data is in accordance with GDA assumptions. GDA makes strong assumptions about the data, including that it is distributed on a multivariate normal distribution. GDA also requires less training data to learn a good model, so it performs better on smaller datasets that are in concordance with the assumptions. Logisitic regression is more robust since it makes fewer assumptions about the data and therefore will outperform GDA if the data follows a non-Gaussian distribution. \n",
    "\n",
    "\n",
    "**Question 3:** Show that when we assume that the class covariance matrices are equal, the GDA decision boundary is linear. You can type your derivation here using LaTeX notation, or if you prefer to write it by hand, you can upload a pdf or photo.\n",
    "pdf uploaded"
   ]
  },
  {
   "cell_type": "markdown",
   "metadata": {},
   "source": [
    "---\n",
    "## Part 2: Support Vector Machine\n",
    "\n",
    "Now, you will apply a Support Vector Machine (with radial basis function kernel) to the [Wisconsin Breast Cancer dataset](https://scikit-learn.org/stable/modules/generated/sklearn.datasets.load_breast_cancer.html). Use the columns 'perimeter (mean)' and 'symmetry (mean)' for the input features in your calculations. Here, rather than writing your own SVM class, you will be calling functions provided in scikit-learn: [documentation here](https://scikit-learn.org/stable/modules/generated/sklearn.svm.SVC.html)."
   ]
  },
  {
   "cell_type": "markdown",
   "metadata": {},
   "source": [
    "**Question 4:** Why is feature scaling important when using a support vector machine with the RBF kernel?\n",
    "Support vector machines are a distance-based method. It is important for the features to have the same range so that the distance is not dominated by one feature that has high values. "
   ]
  },
  {
   "cell_type": "markdown",
   "metadata": {},
   "source": [
    "**Task 2**\n",
    "<br><br>Using the WBC dataset, shuffle the dataset, split it using a 80/20  train/test partition, and perform feature scaling. You may refer to your code from Assignment 2 for those steps. Refer to instructions regarding feature scaling in the Logistic Regression section of Assignment 2."
   ]
  },
  {
   "cell_type": "code",
   "execution_count": 8,
   "metadata": {
    "scrolled": true
   },
   "outputs": [
    {
     "data": {
      "text/plain": [
       "{'data': array([[1.799e+01, 1.038e+01, 1.228e+02, ..., 2.654e-01, 4.601e-01,\n",
       "         1.189e-01],\n",
       "        [2.057e+01, 1.777e+01, 1.329e+02, ..., 1.860e-01, 2.750e-01,\n",
       "         8.902e-02],\n",
       "        [1.969e+01, 2.125e+01, 1.300e+02, ..., 2.430e-01, 3.613e-01,\n",
       "         8.758e-02],\n",
       "        ...,\n",
       "        [1.660e+01, 2.808e+01, 1.083e+02, ..., 1.418e-01, 2.218e-01,\n",
       "         7.820e-02],\n",
       "        [2.060e+01, 2.933e+01, 1.401e+02, ..., 2.650e-01, 4.087e-01,\n",
       "         1.240e-01],\n",
       "        [7.760e+00, 2.454e+01, 4.792e+01, ..., 0.000e+00, 2.871e-01,\n",
       "         7.039e-02]]),\n",
       " 'target': array([0, 0, 0, 0, 0, 0, 0, 0, 0, 0, 0, 0, 0, 0, 0, 0, 0, 0, 0, 1, 1, 1,\n",
       "        0, 0, 0, 0, 0, 0, 0, 0, 0, 0, 0, 0, 0, 0, 0, 1, 0, 0, 0, 0, 0, 0,\n",
       "        0, 0, 1, 0, 1, 1, 1, 1, 1, 0, 0, 1, 0, 0, 1, 1, 1, 1, 0, 1, 0, 0,\n",
       "        1, 1, 1, 1, 0, 1, 0, 0, 1, 0, 1, 0, 0, 1, 1, 1, 0, 0, 1, 0, 0, 0,\n",
       "        1, 1, 1, 0, 1, 1, 0, 0, 1, 1, 1, 0, 0, 1, 1, 1, 1, 0, 1, 1, 0, 1,\n",
       "        1, 1, 1, 1, 1, 1, 1, 0, 0, 0, 1, 0, 0, 1, 1, 1, 0, 0, 1, 0, 1, 0,\n",
       "        0, 1, 0, 0, 1, 1, 0, 1, 1, 0, 1, 1, 1, 1, 0, 1, 1, 1, 1, 1, 1, 1,\n",
       "        1, 1, 0, 1, 1, 1, 1, 0, 0, 1, 0, 1, 1, 0, 0, 1, 1, 0, 0, 1, 1, 1,\n",
       "        1, 0, 1, 1, 0, 0, 0, 1, 0, 1, 0, 1, 1, 1, 0, 1, 1, 0, 0, 1, 0, 0,\n",
       "        0, 0, 1, 0, 0, 0, 1, 0, 1, 0, 1, 1, 0, 1, 0, 0, 0, 0, 1, 1, 0, 0,\n",
       "        1, 1, 1, 0, 1, 1, 1, 1, 1, 0, 0, 1, 1, 0, 1, 1, 0, 0, 1, 0, 1, 1,\n",
       "        1, 1, 0, 1, 1, 1, 1, 1, 0, 1, 0, 0, 0, 0, 0, 0, 0, 0, 0, 0, 0, 0,\n",
       "        0, 0, 1, 1, 1, 1, 1, 1, 0, 1, 0, 1, 1, 0, 1, 1, 0, 1, 0, 0, 1, 1,\n",
       "        1, 1, 1, 1, 1, 1, 1, 1, 1, 1, 1, 0, 1, 1, 0, 1, 0, 1, 1, 1, 1, 1,\n",
       "        1, 1, 1, 1, 1, 1, 1, 1, 1, 0, 1, 1, 1, 0, 1, 0, 1, 1, 1, 1, 0, 0,\n",
       "        0, 1, 1, 1, 1, 0, 1, 0, 1, 0, 1, 1, 1, 0, 1, 1, 1, 1, 1, 1, 1, 0,\n",
       "        0, 0, 1, 1, 1, 1, 1, 1, 1, 1, 1, 1, 1, 0, 0, 1, 0, 0, 0, 1, 0, 0,\n",
       "        1, 1, 1, 1, 1, 0, 1, 1, 1, 1, 1, 0, 1, 1, 1, 0, 1, 1, 0, 0, 1, 1,\n",
       "        1, 1, 1, 1, 0, 1, 1, 1, 1, 1, 1, 1, 0, 1, 1, 1, 1, 1, 0, 1, 1, 0,\n",
       "        1, 1, 1, 1, 1, 1, 1, 1, 1, 1, 1, 1, 0, 1, 0, 0, 1, 0, 1, 1, 1, 1,\n",
       "        1, 0, 1, 1, 0, 1, 0, 1, 1, 0, 1, 0, 1, 1, 1, 1, 1, 1, 1, 1, 0, 0,\n",
       "        1, 1, 1, 1, 1, 1, 0, 1, 1, 1, 1, 1, 1, 1, 1, 1, 1, 0, 1, 1, 1, 1,\n",
       "        1, 1, 1, 0, 1, 0, 1, 1, 0, 1, 1, 1, 1, 1, 0, 0, 1, 0, 1, 0, 1, 1,\n",
       "        1, 1, 1, 0, 1, 1, 0, 1, 0, 1, 0, 0, 1, 1, 1, 0, 1, 1, 1, 1, 1, 1,\n",
       "        1, 1, 1, 1, 1, 0, 1, 0, 0, 1, 1, 1, 1, 1, 1, 1, 1, 1, 1, 1, 1, 1,\n",
       "        1, 1, 1, 1, 1, 1, 1, 1, 1, 1, 1, 1, 0, 0, 0, 0, 0, 0, 1]),\n",
       " 'frame': None,\n",
       " 'target_names': array(['malignant', 'benign'], dtype='<U9'),\n",
       " 'DESCR': '.. _breast_cancer_dataset:\\n\\nBreast cancer wisconsin (diagnostic) dataset\\n--------------------------------------------\\n\\n**Data Set Characteristics:**\\n\\n    :Number of Instances: 569\\n\\n    :Number of Attributes: 30 numeric, predictive attributes and the class\\n\\n    :Attribute Information:\\n        - radius (mean of distances from center to points on the perimeter)\\n        - texture (standard deviation of gray-scale values)\\n        - perimeter\\n        - area\\n        - smoothness (local variation in radius lengths)\\n        - compactness (perimeter^2 / area - 1.0)\\n        - concavity (severity of concave portions of the contour)\\n        - concave points (number of concave portions of the contour)\\n        - symmetry\\n        - fractal dimension (\"coastline approximation\" - 1)\\n\\n        The mean, standard error, and \"worst\" or largest (mean of the three\\n        worst/largest values) of these features were computed for each image,\\n        resulting in 30 features.  For instance, field 0 is Mean Radius, field\\n        10 is Radius SE, field 20 is Worst Radius.\\n\\n        - class:\\n                - WDBC-Malignant\\n                - WDBC-Benign\\n\\n    :Summary Statistics:\\n\\n    ===================================== ====== ======\\n                                           Min    Max\\n    ===================================== ====== ======\\n    radius (mean):                        6.981  28.11\\n    texture (mean):                       9.71   39.28\\n    perimeter (mean):                     43.79  188.5\\n    area (mean):                          143.5  2501.0\\n    smoothness (mean):                    0.053  0.163\\n    compactness (mean):                   0.019  0.345\\n    concavity (mean):                     0.0    0.427\\n    concave points (mean):                0.0    0.201\\n    symmetry (mean):                      0.106  0.304\\n    fractal dimension (mean):             0.05   0.097\\n    radius (standard error):              0.112  2.873\\n    texture (standard error):             0.36   4.885\\n    perimeter (standard error):           0.757  21.98\\n    area (standard error):                6.802  542.2\\n    smoothness (standard error):          0.002  0.031\\n    compactness (standard error):         0.002  0.135\\n    concavity (standard error):           0.0    0.396\\n    concave points (standard error):      0.0    0.053\\n    symmetry (standard error):            0.008  0.079\\n    fractal dimension (standard error):   0.001  0.03\\n    radius (worst):                       7.93   36.04\\n    texture (worst):                      12.02  49.54\\n    perimeter (worst):                    50.41  251.2\\n    area (worst):                         185.2  4254.0\\n    smoothness (worst):                   0.071  0.223\\n    compactness (worst):                  0.027  1.058\\n    concavity (worst):                    0.0    1.252\\n    concave points (worst):               0.0    0.291\\n    symmetry (worst):                     0.156  0.664\\n    fractal dimension (worst):            0.055  0.208\\n    ===================================== ====== ======\\n\\n    :Missing Attribute Values: None\\n\\n    :Class Distribution: 212 - Malignant, 357 - Benign\\n\\n    :Creator:  Dr. William H. Wolberg, W. Nick Street, Olvi L. Mangasarian\\n\\n    :Donor: Nick Street\\n\\n    :Date: November, 1995\\n\\nThis is a copy of UCI ML Breast Cancer Wisconsin (Diagnostic) datasets.\\nhttps://goo.gl/U2Uwz2\\n\\nFeatures are computed from a digitized image of a fine needle\\naspirate (FNA) of a breast mass.  They describe\\ncharacteristics of the cell nuclei present in the image.\\n\\nSeparating plane described above was obtained using\\nMultisurface Method-Tree (MSM-T) [K. P. Bennett, \"Decision Tree\\nConstruction Via Linear Programming.\" Proceedings of the 4th\\nMidwest Artificial Intelligence and Cognitive Science Society,\\npp. 97-101, 1992], a classification method which uses linear\\nprogramming to construct a decision tree.  Relevant features\\nwere selected using an exhaustive search in the space of 1-4\\nfeatures and 1-3 separating planes.\\n\\nThe actual linear program used to obtain the separating plane\\nin the 3-dimensional space is that described in:\\n[K. P. Bennett and O. L. Mangasarian: \"Robust Linear\\nProgramming Discrimination of Two Linearly Inseparable Sets\",\\nOptimization Methods and Software 1, 1992, 23-34].\\n\\nThis database is also available through the UW CS ftp server:\\n\\nftp ftp.cs.wisc.edu\\ncd math-prog/cpo-dataset/machine-learn/WDBC/\\n\\n.. topic:: References\\n\\n   - W.N. Street, W.H. Wolberg and O.L. Mangasarian. Nuclear feature extraction \\n     for breast tumor diagnosis. IS&T/SPIE 1993 International Symposium on \\n     Electronic Imaging: Science and Technology, volume 1905, pages 861-870,\\n     San Jose, CA, 1993.\\n   - O.L. Mangasarian, W.N. Street and W.H. Wolberg. Breast cancer diagnosis and \\n     prognosis via linear programming. Operations Research, 43(4), pages 570-577, \\n     July-August 1995.\\n   - W.H. Wolberg, W.N. Street, and O.L. Mangasarian. Machine learning techniques\\n     to diagnose breast cancer from fine-needle aspirates. Cancer Letters 77 (1994) \\n     163-171.',\n",
       " 'feature_names': array(['mean radius', 'mean texture', 'mean perimeter', 'mean area',\n",
       "        'mean smoothness', 'mean compactness', 'mean concavity',\n",
       "        'mean concave points', 'mean symmetry', 'mean fractal dimension',\n",
       "        'radius error', 'texture error', 'perimeter error', 'area error',\n",
       "        'smoothness error', 'compactness error', 'concavity error',\n",
       "        'concave points error', 'symmetry error',\n",
       "        'fractal dimension error', 'worst radius', 'worst texture',\n",
       "        'worst perimeter', 'worst area', 'worst smoothness',\n",
       "        'worst compactness', 'worst concavity', 'worst concave points',\n",
       "        'worst symmetry', 'worst fractal dimension'], dtype='<U23'),\n",
       " 'filename': 'breast_cancer.csv',\n",
       " 'data_module': 'sklearn.datasets.data'}"
      ]
     },
     "execution_count": 8,
     "metadata": {},
     "output_type": "execute_result"
    }
   ],
   "source": [
    "#TODO - process and partition the data \n",
    "#load dataset\n",
    "cancer = datasets.load_breast_cancer()\n",
    "cancer"
   ]
  },
  {
   "cell_type": "code",
   "execution_count": 9,
   "metadata": {},
   "outputs": [],
   "source": [
    "#add target column to feature matrix\n",
    "combined_cancer_mat = np.column_stack([cancer.data, cancer.target])\n",
    "\n",
    "#shuffle dataset then separate features and targets\n",
    "np.random.shuffle(combined_cancer_mat) #shuffle data\n",
    "cancer_features = combined_cancer_mat[:,:-1]\n",
    "cancer_targets = combined_cancer_mat[:,:31]\n",
    "\n",
    "#split into training and testing sets\n",
    "split_ind = int(len(cancer_features)*0.8) #get the 80th percentile index\n",
    "train_x = np.array(cancer_features[:split_ind])\n",
    "train_y = np.array(cancer_targets[:split_ind])\n",
    "test_x = np.array(cancer_features[split_ind:])\n",
    "test_y = np.array(cancer_targets[split_ind:])"
   ]
  },
  {
   "cell_type": "code",
   "execution_count": 9,
   "metadata": {},
   "outputs": [],
   "source": [
    "'''\n",
    "Feature scaling function that standardizes each features mean to 0 and variance to 1. \n",
    "@param x (numpy.ndarray) - feature dataset \n",
    "@return scaled_x (np.ndarray)\n",
    "        mean (numpy.ndarray) - mean values of each feature in x\n",
    "        std (numpy.ndarray) - standard deviation values of each feature in x\n",
    "'''\n",
    "def scale(x):\n",
    "    #calculate mean and standard deviation if none is provided\n",
    "    mean = np.mean(x, axis=0)\n",
    "    std = np.std(x, axis=0)\n",
    "    \n",
    "    scaled_x = (x-mean)/std #scale to mean=0, variance=1\n",
    "    \n",
    "    return scaled_x, mean, std\n",
    "\n",
    "#feature scaling\n",
    "scaled_train_x, train_x_mean, train_x_std = scale(train_x)\n",
    "scaled_test_x = (test_x-train_x_mean)/train_x_std"
   ]
  },
  {
   "cell_type": "markdown",
   "metadata": {},
   "source": [
    "**Question 5:** In the context of scikit-learn's SVM implementation (linked above), explain what hyperparameters C and gamma are, and describe the effects of increasing and decreasing their values.\n",
    "the gamma parameter defines how far the influence of a single training example reaches, with low values meaning ‘far’ and high values meaning ‘close’. The gamma parameters can be seen as the inverse of the radius of influence of samples selected by the model as support vectors.\n",
    "\n",
    "The C parameter trades off correct classification of training examples against maximization of the decision function’s margin. For larger values of C, a smaller margin will be accepted if the decision function is better at classifying all training points correctly. A lower C will encourage a larger margin, therefore a simpler decision function, at the cost of training accuracy. In other words C behaves as a regularization parameter in the SVM"
   ]
  },
  {
   "cell_type": "markdown",
   "metadata": {},
   "source": [
    "**Task 3**\n",
    "\n",
    "You will implement k-fold cross-validation to select the SVM hyperparameters. Note: you must write k-fold CV yourself, do not use sklearn.model_selection.KFold. However, you may use scikit-learn's SVC (you don't need to implement support vector machine yourself).\n",
    "\n",
    "- Choose three values of C and three values of gamma that you wish to consider. Additionally, pick a value of _k_ (# of cross-validation folds) \n",
    "- For each pair of hyperparameter values (C, gamma), perform k-fold cross validation *within the training set* you designated above.  \n",
    "- Report the pair of hyperparameter values that yields the highest accuracy (averaged across the k iterations) on this k-fold CV.\n",
    "- Using that pair of hyperparameters, train a \"final\" SVM using the *entire* training set\n",
    "- Run and report the accuracy of this model on the held-out test set. "
   ]
  },
  {
   "cell_type": "code",
   "execution_count": 28,
   "metadata": {},
   "outputs": [
    {
     "name": "stdout",
     "output_type": "stream",
     "text": [
      "start:  0.0\n",
      "stop:  3.0\n",
      "start:  3.0\n",
      "stop:  6.0\n",
      "start:  6.0\n",
      "stop:  9.0\n",
      "start:  9.0\n",
      "stop:  12.0\n",
      "start:  12.0\n",
      "stop:  15.0\n"
     ]
    }
   ],
   "source": [
    "kval=5\n",
    "lst = list(range(15))\n",
    "bin_size = len(lst)/kval\n",
    "\n",
    "for k in range(kval):\n",
    "    print('start: ',k*bin_size)\n",
    "    print('stop: ',((1+k)*bin_size))\n"
   ]
  },
  {
   "cell_type": "code",
   "execution_count": 23,
   "metadata": {},
   "outputs": [
    {
     "data": {
      "text/plain": [
       "3.0"
      ]
     },
     "execution_count": 23,
     "metadata": {},
     "output_type": "execute_result"
    }
   ],
   "source": [
    "bin_size = len(lst)/kval\n",
    "bin_size"
   ]
  },
  {
   "cell_type": "code",
   "execution_count": null,
   "metadata": {},
   "outputs": [],
   "source": []
  },
  {
   "cell_type": "code",
   "execution_count": null,
   "metadata": {},
   "outputs": [],
   "source": []
  },
  {
   "cell_type": "code",
   "execution_count": null,
   "metadata": {},
   "outputs": [],
   "source": [
    "#TODO - k-fold cross validation on SVMs\n",
    "C = [0.1, 1, 5]\n",
    "gamma = [0.1, 1, 5]\n",
    "kvalue = 5\n",
    "\n",
    "#perform k-fold cross-validation within the training set to select hyperparameters\n",
    "cv = pd.DataFrame(columns=['C', 'gamma', 'performance']) #data structure to store accuracy with different hyperparameters\n",
    "for c in C_list:\n",
    "    for gam in gamma_list:\n",
    "        perf = [] #store performance of k runs of SVC on training set\n",
    "        for k in range(kvalue):\n",
    "            \n",
    "            split_ind = int(len(cancer_features)*0.8) \n",
    "            train_x = np.array(cancer_features[:split_ind])\n",
    "            train_y = np.array(cancer_targets[:split_ind])\n",
    "            test_x = np.array(cancer_features[split_ind:])\n",
    "            test_y = np.array(cancer_targets[split_ind:])\n",
    "            \n",
    "            #split training set into training/testing set\n",
    "            SVC_train_x = \n",
    "            SVC_train_y =\n",
    "            SVC_test_x = \n",
    "            SVC_test_y = \n",
    "            \n",
    "            model = SVC(C=c, gamma=gam, kernel='rbf') \n",
    "            model.fit(SVC_train_x, SVC_train_y)\n",
    "            pred_y = model.predict(SVC_test_x)\n",
    "            perf.append(evaluate(SVC_test_y, pred_y))\n",
    "        \n",
    "        #calculate overall model performance\n",
    "        final_perf = sum(perf)/kvalue \n",
    "        cv.append({'C':c, 'gamma':gam, 'performance':final_perf})\n",
    "        \n",
    "            \n",
    "            \n",
    "optimized_C = \n",
    "optimized_gamma = \n",
    "\n",
    "#final SVC on entire training set\n",
    "final_model = SVC(C=optimized_C, gamma=optimized_gamma, kernel='rbf')\n",
    "model.fit(scaled_train_x, scaled_train_y)\n",
    "            \n",
    "#SVC on test set\n",
    "pred_y = model.predict(scaled_test_x)\n",
    "evaluate(scaled_test_y, pred_y)"
   ]
  },
  {
   "cell_type": "markdown",
   "metadata": {},
   "source": [
    "**Question 6:** Which pair of hyperparameters were selected by k-fold CV? What was the accuracy of the corresponding model on the held-out test set?"
   ]
  },
  {
   "cell_type": "markdown",
   "metadata": {},
   "source": [
    "**Question 7:** Discuss the effects of changing C and gamma. To illustrate your response, generate plots of the decision boundary resulting from different values of C and gamma, in the following way:\n",
    "- Using the 'best' value of C (selected based on k-fold CV above), sweep over 2-3 different values of gamma, generating one plot of the decision boundary (superimposed on the training points) each time. Use the entire training set.\n",
    "- Repeat the above, this time using the 'best' value of gamma (selected based on k-fold CV above) and sweeping over 2-3 different values of C."
   ]
  },
  {
   "cell_type": "code",
   "execution_count": null,
   "metadata": {},
   "outputs": [],
   "source": [
    "# The following code will plot the decision boundary on a dataset for a given classifier. \n",
    "# source: https://github.com/rasbt/python-machine-learning-book-2nd-edition/blob/master/code/ch02/ch02.ipynb\n",
    "def plot_decision_regions(X, y, classifier, resolution=0.02):\n",
    "\n",
    "    # set up marker generator and color map\n",
    "    markers = ('s', 'x', 'o', '^', 'v')\n",
    "    colors = ('red', 'blue', 'lightgreen', 'gray', 'cyan')\n",
    "    cmap = ListedColormap(colors[:len(np.unique(y))])\n",
    "\n",
    "    # plot the decision surface\n",
    "    x1_min, x1_max = X[:, 0].min() - 1, X[:, 0].max() + 1\n",
    "    x2_min, x2_max = X[:, 1].min() - 1, X[:, 1].max() + 1\n",
    "    xx1, xx2 = np.meshgrid(np.arange(x1_min, x1_max, resolution),\n",
    "                           np.arange(x2_min, x2_max, resolution))\n",
    "    Z = classifier.predict(np.array([xx1.ravel(), xx2.ravel()]).T)\n",
    "    Z = Z.reshape(xx1.shape)\n",
    "    plt.contourf(xx1, xx2, Z, alpha=0.3, cmap=cmap)\n",
    "    plt.xlim(xx1.min(), xx1.max())\n",
    "    plt.ylim(xx2.min(), xx2.max())\n",
    "\n",
    "    # plot class samples\n",
    "    for idx, cl in enumerate(np.unique(y)):\n",
    "        plt.scatter(x=X[y == cl, 0], \n",
    "                    y=X[y == cl, 1],\n",
    "                    alpha=0.8, \n",
    "                    c=colors[idx],\n",
    "                    marker=markers[idx], \n",
    "                    label=cl, \n",
    "                    edgecolor='black')"
   ]
  },
  {
   "cell_type": "code",
   "execution_count": null,
   "metadata": {},
   "outputs": [],
   "source": [
    "#TODO - analyze the effects of C and gamma"
   ]
  },
  {
   "cell_type": "markdown",
   "metadata": {},
   "source": [
    "---\n",
    "## Part 4: Submission \n",
    "\n",
    "Please upload a clean version of your work to Brightspace by the deadline. <em>If you use a separate PDF with your short answer questions, it should be added alongside the ipynb file as a PDF, and zipped up together as your solution.</em>"
   ]
  },
  {
   "cell_type": "markdown",
   "metadata": {},
   "source": [
    "Below, please acknowledge your collaborators as well as any resources/references (beyond guides to Python syntax) that you have used in this assignment:"
   ]
  },
  {
   "cell_type": "code",
   "execution_count": null,
   "metadata": {},
   "outputs": [],
   "source": []
  }
 ],
 "metadata": {
  "@webio": {
   "lastCommId": null,
   "lastKernelId": null
  },
  "kernelspec": {
   "display_name": "Python 3 (ipykernel)",
   "language": "python",
   "name": "python3"
  },
  "language_info": {
   "codemirror_mode": {
    "name": "ipython",
    "version": 3
   },
   "file_extension": ".py",
   "mimetype": "text/x-python",
   "name": "python",
   "nbconvert_exporter": "python",
   "pygments_lexer": "ipython3",
   "version": "3.9.12"
  }
 },
 "nbformat": 4,
 "nbformat_minor": 4
}
