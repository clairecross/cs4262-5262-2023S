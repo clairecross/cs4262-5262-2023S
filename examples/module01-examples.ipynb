{
 "cells": [
  {
   "cell_type": "markdown",
   "id": "98e5742a-9641-42aa-b990-525a32a42a6f",
   "metadata": {},
   "source": [
    "<h1> <center> Example code from lectures on Linear Regression <br>\n",
    "cs4262 </center> </h1>\n",
    "<h2><center> Author: Jonathan Sprinkle <br>\n",
    "Copyright (c) 2023 Regents of Vanderbilt University </center></h2>"
   ]
  },
  {
   "cell_type": "markdown",
   "id": "12a37a6d-c5a5-48cb-81ca-20c543b5b064",
   "metadata": {},
   "source": [
    "# My First Gradient Descent\n",
    "Let's assume we have a cost function for a single value as\n",
    "\n",
    "$J(\\theta_1) = (\\theta_1 - 5)^2 + 10 = \\theta_1^2 - 10 \\theta_1 + 35$\n",
    "\n",
    "We can take the derivative of this function with respect to $\\theta_1$ as\n",
    "\n",
    "$\\frac{\\partial J(\\theta_1)}{\\partial \\theta_1} = 2 \\theta_1 - 10$"
   ]
  },
  {
   "cell_type": "code",
   "execution_count": null,
   "id": "ffed616c-02e8-4c9f-9edc-f828a741a247",
   "metadata": {},
   "outputs": [],
   "source": [
    "# define a simple analytical cost function that could be analyzed\n",
    "def j1(theta1):\n",
    "    result = (theta1-5)*(theta1-5) + 10\n",
    "    return result\n",
    "\n",
    "# the derivative with respect to theta1 of the analytical function above\n",
    "def del_j1(theta1):\n",
    "    result = 2*theta1 - 10\n",
    "    return result"
   ]
  },
  {
   "cell_type": "markdown",
   "id": "93d7dcf1-f0d2-4654-ba51-8146022fca9b",
   "metadata": {},
   "source": [
    "Let's get an array of values to use for plotting the original cost function as values of $\\theta_1$"
   ]
  },
  {
   "cell_type": "code",
   "execution_count": null,
   "id": "73246bf0-75b7-4c34-be2a-e53aa02d46c6",
   "metadata": {},
   "outputs": [],
   "source": [
    "import numpy as np\n",
    "\n",
    "thetas = np.linspace(0,10,100)\n",
    "thetas"
   ]
  },
  {
   "cell_type": "code",
   "execution_count": null,
   "id": "bd2afc25-fd99-4a40-a877-11d3f45e59dc",
   "metadata": {},
   "outputs": [],
   "source": [
    "costs = np.zeros(100)"
   ]
  },
  {
   "cell_type": "code",
   "execution_count": null,
   "id": "144d1573-b73b-4d2c-b153-b05b692be80c",
   "metadata": {},
   "outputs": [],
   "source": [
    "for i in range(len(costs)):\n",
    "    costs[i] = j1(thetas[i])"
   ]
  },
  {
   "cell_type": "code",
   "execution_count": null,
   "id": "0ce4e7f4-4a3a-4e1b-9f94-ada41a17c3b5",
   "metadata": {},
   "outputs": [],
   "source": [
    "import matplotlib.pyplot as plt\n",
    "plt.xlim(0,10)\n",
    "plt.ylim(0,35)\n",
    "plt.plot(thetas,costs)"
   ]
  },
  {
   "cell_type": "markdown",
   "id": "b0fe8fde-45f0-4f4d-bcc1-e7a11cb1f384",
   "metadata": {},
   "source": [
    "## Iterations with different values of alpha\n",
    "\n",
    "Let's choose a specific starting value, say $\\theta_1 =0$, and plot values (and iterations) on the cost function itself."
   ]
  },
  {
   "cell_type": "code",
   "execution_count": null,
   "id": "d641021a-a7d4-40bf-83de-f74ea69cd926",
   "metadata": {},
   "outputs": [],
   "source": [
    "iterations = []\n"
   ]
  },
  {
   "cell_type": "code",
   "execution_count": null,
   "id": "930071ad-6730-4ff2-b6d4-50ea9c75175e",
   "metadata": {},
   "outputs": [],
   "source": [
    "theta1 = 0\n",
    "alpha = 1\n",
    "iterations.append([theta1, j1(theta1)])"
   ]
  },
  {
   "cell_type": "code",
   "execution_count": null,
   "id": "6c0bf846-641e-4feb-91cb-7819ddf2ef82",
   "metadata": {},
   "outputs": [],
   "source": [
    "theta1 = theta1 - alpha*del_j1(theta1)\n",
    "iterations.append([theta1, j1(theta1)])\n",
    "theta1 = theta1 - alpha*del_j1(theta1)\n",
    "iterations.append([theta1, j1(theta1)])\n",
    "theta1 = theta1 - alpha*del_j1(theta1)\n",
    "iterations.append([theta1, j1(theta1)])\n",
    "theta1 = theta1 - alpha*del_j1(theta1)\n",
    "iterations.append([theta1, j1(theta1)])\n",
    "theta1 = theta1 - alpha*del_j1(theta1)\n",
    "iterations.append([theta1, j1(theta1)])\n",
    "\n"
   ]
  },
  {
   "cell_type": "code",
   "execution_count": null,
   "id": "ad82f640-89b1-4871-80a6-e77a981b5d42",
   "metadata": {},
   "outputs": [],
   "source": [
    "iterations[:]"
   ]
  },
  {
   "cell_type": "code",
   "execution_count": null,
   "id": "21bbfefb-0c0a-4ce7-bf30-b2e664ce3d15",
   "metadata": {},
   "outputs": [],
   "source": [
    "plt.plot(iterations,'x')"
   ]
  },
  {
   "cell_type": "markdown",
   "id": "0728851e-dad1-49ff-9f56-edf8a93b29c2",
   "metadata": {},
   "source": [
    "This is really not that helpful though; our cost is just bouncing around. Let'st try something else---a different alpha but same other values."
   ]
  },
  {
   "cell_type": "code",
   "execution_count": null,
   "id": "397393c2-3be8-4c73-aa2f-040732900b42",
   "metadata": {},
   "outputs": [],
   "source": [
    "iterations = []\n",
    "theta1 = 0\n",
    "alpha = 0.1\n",
    "iterations.append([theta1, j1(theta1)])\n",
    "theta1 = theta1 - alpha*del_j1(theta1)\n",
    "iterations.append([theta1, j1(theta1)])\n",
    "theta1 = theta1 - alpha*del_j1(theta1)\n",
    "iterations.append([theta1, j1(theta1)])\n",
    "theta1 = theta1 - alpha*del_j1(theta1)\n",
    "iterations.append([theta1, j1(theta1)])\n",
    "theta1 = theta1 - alpha*del_j1(theta1)\n",
    "iterations.append([theta1, j1(theta1)])\n",
    "theta1 = theta1 - alpha*del_j1(theta1)\n",
    "iterations.append([theta1, j1(theta1)])\n",
    "plt.plot(iterations,'x')"
   ]
  },
  {
   "cell_type": "markdown",
   "id": "5a4c75fe-4382-46d9-9202-1f3083c03cdb",
   "metadata": {},
   "source": [
    "Ok, well at least that one starts to look a little better. What if we change alpha again?"
   ]
  },
  {
   "cell_type": "code",
   "execution_count": null,
   "id": "6426296e-b3de-4c68-8582-7dfda13d8397",
   "metadata": {},
   "outputs": [],
   "source": [
    "iterations = []\n",
    "theta1 = 0\n",
    "alpha = 0.3\n",
    "iterations.append([theta1, j1(theta1)])\n",
    "theta1 = theta1 - alpha*del_j1(theta1)\n",
    "iterations.append([theta1, j1(theta1)])\n",
    "theta1 = theta1 - alpha*del_j1(theta1)\n",
    "iterations.append([theta1, j1(theta1)])\n",
    "theta1 = theta1 - alpha*del_j1(theta1)\n",
    "iterations.append([theta1, j1(theta1)])\n",
    "theta1 = theta1 - alpha*del_j1(theta1)\n",
    "iterations.append([theta1, j1(theta1)])\n",
    "theta1 = theta1 - alpha*del_j1(theta1)\n",
    "iterations.append([theta1, j1(theta1)])\n",
    "plt.plot(iterations,'x')"
   ]
  },
  {
   "cell_type": "markdown",
   "id": "19e7fdce-4b1c-453b-9f9b-a3d21ae37253",
   "metadata": {},
   "source": [
    "Let's look at this at scale, first we'll make a function of what we tried by copy/paste before:"
   ]
  },
  {
   "cell_type": "code",
   "execution_count": null,
   "id": "b2e4c007-5b4d-43e8-a63f-c5e42198cb8e",
   "metadata": {},
   "outputs": [],
   "source": [
    "def optimize(theta1,alpha,num_iterations):\n",
    "    iterations = []\n",
    "    iterations.append([theta1,j1(theta1)])\n",
    "    for i in range(num_iterations):\n",
    "        theta1 = theta1 - alpha*del_j1(theta1)\n",
    "        iterations.append([theta1, j1(theta1)])\n",
    "    return iterations\n",
    "\n"
   ]
  },
  {
   "cell_type": "code",
   "execution_count": null,
   "id": "7f8006b8-3e21-4194-b5b4-d0f07f78413a",
   "metadata": {},
   "outputs": [],
   "source": [
    "# and now we try a bunch of different versions, then plot them\n",
    "\n",
    "iterations_1 = optimize(0,1,15)\n",
    "iterations_2 = optimize(0,0.1,15)\n",
    "iterations_3 = optimize(0,0.3,15)\n",
    "plt.plot(iterations_1)\n",
    "plt.plot(iterations_2)\n",
    "plt.plot(iterations_3)"
   ]
  },
  {
   "cell_type": "code",
   "execution_count": null,
   "id": "d2dcf321-5b64-44f7-8910-f361b5a40eae",
   "metadata": {},
   "outputs": [],
   "source": []
  },
  {
   "cell_type": "code",
   "execution_count": null,
   "id": "ea48fee6-47af-414d-8fb6-cbe3761a2ec1",
   "metadata": {},
   "outputs": [],
   "source": [
    "# try from a different starting point:\n",
    "# and now we try a bunch of different versions, then plot them\n",
    "\n",
    "iterations_1 = optimize(4,1,15)\n",
    "iterations_2 = optimize(4,0.1,15)\n",
    "iterations_3 = optimize(4,0.4,15)\n",
    "plt.plot(iterations_1)\n",
    "plt.plot(iterations_2)\n",
    "plt.plot(iterations_3)"
   ]
  },
  {
   "cell_type": "markdown",
   "id": "5c95cc89-23f1-494b-8075-a6bc6f184c15",
   "metadata": {},
   "source": [
    "How does this look when pasted 'on top of' the actual cost function, by iteration?"
   ]
  },
  {
   "cell_type": "code",
   "execution_count": null,
   "id": "755ed398-46e6-4746-be5f-002dd5ce2f8c",
   "metadata": {},
   "outputs": [],
   "source": [
    "iterations_3[:]"
   ]
  },
  {
   "cell_type": "code",
   "execution_count": null,
   "id": "f4247886-e26a-4dbd-a6b0-510a9ffc5f99",
   "metadata": {},
   "outputs": [],
   "source": [
    "xs = [item[0] for item in iterations_1[:]]\n",
    "ys = [item[1] for item in iterations_1[:]]\n",
    "plt.xlim(0,10)\n",
    "plt.ylim(0,35)\n",
    "plt.plot(thetas,costs)\n",
    "plt.plot(xs,ys,'x')"
   ]
  },
  {
   "cell_type": "code",
   "execution_count": null,
   "id": "86b0aa69-513b-4c82-89d2-d0b01cf23abc",
   "metadata": {},
   "outputs": [],
   "source": [
    "xs = [item[0] for item in iterations_2[:]]\n",
    "ys = [item[1] for item in iterations_2[:]]\n",
    "plt.xlim(0,10)\n",
    "plt.ylim(0,35)\n",
    "plt.plot(thetas,costs)\n",
    "plt.plot(xs,ys,'x')"
   ]
  },
  {
   "cell_type": "code",
   "execution_count": null,
   "id": "a2b61aa5-60d2-4f79-9b5d-cc3e2945ac69",
   "metadata": {},
   "outputs": [],
   "source": [
    "xs = [item[0] for item in iterations_3[:]]\n",
    "ys = [item[1] for item in iterations_3[:]]\n",
    "plt.xlim(0,10)\n",
    "plt.ylim(0,35)\n",
    "plt.plot(thetas,costs)\n",
    "plt.plot(xs,ys,'x')"
   ]
  },
  {
   "cell_type": "code",
   "execution_count": null,
   "id": "9fe07df4-749a-4d84-b069-c7759446346c",
   "metadata": {},
   "outputs": [],
   "source": []
  }
 ],
 "metadata": {
  "@webio": {
   "lastCommId": null,
   "lastKernelId": null
  },
  "kernelspec": {
   "display_name": "Python 3 (ipykernel)",
   "language": "python",
   "name": "python3"
  },
  "language_info": {
   "codemirror_mode": {
    "name": "ipython",
    "version": 3
   },
   "file_extension": ".py",
   "mimetype": "text/x-python",
   "name": "python",
   "nbconvert_exporter": "python",
   "pygments_lexer": "ipython3",
   "version": "3.8.15"
  }
 },
 "nbformat": 4,
 "nbformat_minor": 5
}
